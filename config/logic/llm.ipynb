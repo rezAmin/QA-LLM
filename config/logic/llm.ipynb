{
  "cells": [
    {
      "cell_type": "code",
      "execution_count": null,
      "metadata": {
        "colab": {
          "base_uri": "https://localhost:8080/"
        },
        "id": "txHTWft_I98M",
        "outputId": "58482d16-a6c4-4474-e6fd-2b94f849f055"
      },
      "outputs": [
        {
          "name": "stdout",
          "output_type": "stream",
          "text": [
            "Requirement already satisfied: pandas in /usr/local/lib/python3.10/dist-packages (2.1.4)\n",
            "Requirement already satisfied: hazm in /usr/local/lib/python3.10/dist-packages (0.10.0)\n",
            "Requirement already satisfied: scikit-learn in /usr/local/lib/python3.10/dist-packages (1.3.2)\n",
            "Requirement already satisfied: torch in /usr/local/lib/python3.10/dist-packages (2.4.0+cu121)\n",
            "Requirement already satisfied: transformers in /usr/local/lib/python3.10/dist-packages (4.42.4)\n",
            "Requirement already satisfied: numpy in /usr/local/lib/python3.10/dist-packages (1.24.3)\n",
            "Requirement already satisfied: flask in /usr/local/lib/python3.10/dist-packages (2.2.5)\n",
            "Requirement already satisfied: flask_ngrok in /usr/local/lib/python3.10/dist-packages (0.0.25)\n",
            "Requirement already satisfied: pyngrok in /usr/local/lib/python3.10/dist-packages (7.2.0)\n",
            "Requirement already satisfied: python-dateutil>=2.8.2 in /usr/local/lib/python3.10/dist-packages (from pandas) (2.8.2)\n",
            "Requirement already satisfied: pytz>=2020.1 in /usr/local/lib/python3.10/dist-packages (from pandas) (2024.1)\n",
            "Requirement already satisfied: tzdata>=2022.1 in /usr/local/lib/python3.10/dist-packages (from pandas) (2024.1)\n",
            "Requirement already satisfied: fasttext-wheel<0.10.0,>=0.9.2 in /usr/local/lib/python3.10/dist-packages (from hazm) (0.9.2)\n",
            "Requirement already satisfied: flashtext<3.0,>=2.7 in /usr/local/lib/python3.10/dist-packages (from hazm) (2.7)\n",
            "Requirement already satisfied: gensim<5.0.0,>=4.3.1 in /usr/local/lib/python3.10/dist-packages (from hazm) (4.3.3)\n",
            "Requirement already satisfied: nltk<4.0.0,>=3.8.1 in /usr/local/lib/python3.10/dist-packages (from hazm) (3.8.1)\n",
            "Requirement already satisfied: python-crfsuite<0.10.0,>=0.9.9 in /usr/local/lib/python3.10/dist-packages (from hazm) (0.9.10)\n",
            "Requirement already satisfied: scipy>=1.5.0 in /usr/local/lib/python3.10/dist-packages (from scikit-learn) (1.13.1)\n",
            "Requirement already satisfied: joblib>=1.1.1 in /usr/local/lib/python3.10/dist-packages (from scikit-learn) (1.4.2)\n",
            "Requirement already satisfied: threadpoolctl>=2.0.0 in /usr/local/lib/python3.10/dist-packages (from scikit-learn) (3.5.0)\n",
            "Requirement already satisfied: filelock in /usr/local/lib/python3.10/dist-packages (from torch) (3.15.4)\n",
            "Requirement already satisfied: typing-extensions>=4.8.0 in /usr/local/lib/python3.10/dist-packages (from torch) (4.12.2)\n",
            "Requirement already satisfied: sympy in /usr/local/lib/python3.10/dist-packages (from torch) (1.13.2)\n",
            "Requirement already satisfied: networkx in /usr/local/lib/python3.10/dist-packages (from torch) (3.3)\n",
            "Requirement already satisfied: jinja2 in /usr/local/lib/python3.10/dist-packages (from torch) (3.1.4)\n",
            "Requirement already satisfied: fsspec in /usr/local/lib/python3.10/dist-packages (from torch) (2024.6.1)\n",
            "Requirement already satisfied: huggingface-hub<1.0,>=0.23.2 in /usr/local/lib/python3.10/dist-packages (from transformers) (0.23.5)\n",
            "Requirement already satisfied: packaging>=20.0 in /usr/local/lib/python3.10/dist-packages (from transformers) (24.1)\n",
            "Requirement already satisfied: pyyaml>=5.1 in /usr/local/lib/python3.10/dist-packages (from transformers) (6.0.2)\n",
            "Requirement already satisfied: regex!=2019.12.17 in /usr/local/lib/python3.10/dist-packages (from transformers) (2024.5.15)\n",
            "Requirement already satisfied: requests in /usr/local/lib/python3.10/dist-packages (from transformers) (2.32.3)\n",
            "Requirement already satisfied: safetensors>=0.4.1 in /usr/local/lib/python3.10/dist-packages (from transformers) (0.4.4)\n",
            "Requirement already satisfied: tokenizers<0.20,>=0.19 in /usr/local/lib/python3.10/dist-packages (from transformers) (0.19.1)\n",
            "Requirement already satisfied: tqdm>=4.27 in /usr/local/lib/python3.10/dist-packages (from transformers) (4.66.5)\n",
            "Requirement already satisfied: Werkzeug>=2.2.2 in /usr/local/lib/python3.10/dist-packages (from flask) (3.0.4)\n",
            "Requirement already satisfied: itsdangerous>=2.0 in /usr/local/lib/python3.10/dist-packages (from flask) (2.2.0)\n",
            "Requirement already satisfied: click>=8.0 in /usr/local/lib/python3.10/dist-packages (from flask) (8.1.7)\n",
            "Requirement already satisfied: pybind11>=2.2 in /usr/local/lib/python3.10/dist-packages (from fasttext-wheel<0.10.0,>=0.9.2->hazm) (2.13.5)\n",
            "Requirement already satisfied: setuptools>=0.7.0 in /usr/local/lib/python3.10/dist-packages (from fasttext-wheel<0.10.0,>=0.9.2->hazm) (71.0.4)\n",
            "Requirement already satisfied: smart-open>=1.8.1 in /usr/local/lib/python3.10/dist-packages (from gensim<5.0.0,>=4.3.1->hazm) (7.0.4)\n",
            "Requirement already satisfied: MarkupSafe>=2.0 in /usr/local/lib/python3.10/dist-packages (from jinja2->torch) (2.1.5)\n",
            "Requirement already satisfied: six>=1.5 in /usr/local/lib/python3.10/dist-packages (from python-dateutil>=2.8.2->pandas) (1.16.0)\n",
            "Requirement already satisfied: charset-normalizer<4,>=2 in /usr/local/lib/python3.10/dist-packages (from requests->transformers) (3.3.2)\n",
            "Requirement already satisfied: idna<4,>=2.5 in /usr/local/lib/python3.10/dist-packages (from requests->transformers) (3.8)\n",
            "Requirement already satisfied: urllib3<3,>=1.21.1 in /usr/local/lib/python3.10/dist-packages (from requests->transformers) (2.0.7)\n",
            "Requirement already satisfied: certifi>=2017.4.17 in /usr/local/lib/python3.10/dist-packages (from requests->transformers) (2024.7.4)\n",
            "Requirement already satisfied: mpmath<1.4,>=1.1.0 in /usr/local/lib/python3.10/dist-packages (from sympy->torch) (1.3.0)\n",
            "Requirement already satisfied: wrapt in /usr/local/lib/python3.10/dist-packages (from smart-open>=1.8.1->gensim<5.0.0,>=4.3.1->hazm) (1.16.0)\n"
          ]
        }
      ],
      "source": [
        "!pip install pandas hazm scikit-learn torch transformers numpy flask flask_ngrok pyngrok"
      ]
    },
    {
      "cell_type": "code",
      "execution_count": null,
      "metadata": {
        "id": "t83el25W2dYZ"
      },
      "outputs": [],
      "source": [
        "from flask import Flask, request, jsonify\n",
        "from flask_ngrok import run_with_ngrok\n",
        "\n",
        "import pandas as pd\n",
        "from hazm import Normalizer\n",
        "from sklearn.feature_extraction.text import TfidfVectorizer\n",
        "from sklearn.metrics.pairwise import cosine_similarity\n",
        "from transformers import AutoTokenizer, AutoModel, AutoModelForQuestionAnswering\n",
        "import torch\n",
        "import numpy as np\n",
        "from google.colab import files"
      ]
    },
    {
      "cell_type": "code",
      "execution_count": null,
      "metadata": {
        "id": "bnB_XpNu0II2"
      },
      "outputs": [],
      "source": [
        "app = Flask(__name__)\n",
        "run_with_ngrok(app)"
      ]
    },
    {
      "cell_type": "code",
      "execution_count": null,
      "metadata": {
        "colab": {
          "base_uri": "https://localhost:8080/",
          "height": 56
        },
        "id": "d3asP4_8vbaa",
        "outputId": "4bc12a33-0da1-4e50-f409-2fc8b2cb8a77"
      },
      "outputs": [
        {
          "data": {
            "text/html": [
              "\n",
              "     <input type=\"file\" id=\"files-aa4b9d6d-205c-42a7-8758-859fcc98f5b4\" name=\"files[]\" multiple disabled\n",
              "        style=\"border:none\" />\n",
              "     <output id=\"result-aa4b9d6d-205c-42a7-8758-859fcc98f5b4\">\n",
              "      Upload widget is only available when the cell has been executed in the\n",
              "      current browser session. Please rerun this cell to enable.\n",
              "      </output>\n",
              "      <script>// Copyright 2017 Google LLC\n",
              "//\n",
              "// Licensed under the Apache License, Version 2.0 (the \"License\");\n",
              "// you may not use this file except in compliance with the License.\n",
              "// You may obtain a copy of the License at\n",
              "//\n",
              "//      http://www.apache.org/licenses/LICENSE-2.0\n",
              "//\n",
              "// Unless required by applicable law or agreed to in writing, software\n",
              "// distributed under the License is distributed on an \"AS IS\" BASIS,\n",
              "// WITHOUT WARRANTIES OR CONDITIONS OF ANY KIND, either express or implied.\n",
              "// See the License for the specific language governing permissions and\n",
              "// limitations under the License.\n",
              "\n",
              "/**\n",
              " * @fileoverview Helpers for google.colab Python module.\n",
              " */\n",
              "(function(scope) {\n",
              "function span(text, styleAttributes = {}) {\n",
              "  const element = document.createElement('span');\n",
              "  element.textContent = text;\n",
              "  for (const key of Object.keys(styleAttributes)) {\n",
              "    element.style[key] = styleAttributes[key];\n",
              "  }\n",
              "  return element;\n",
              "}\n",
              "\n",
              "// Max number of bytes which will be uploaded at a time.\n",
              "const MAX_PAYLOAD_SIZE = 100 * 1024;\n",
              "\n",
              "function _uploadFiles(inputId, outputId) {\n",
              "  const steps = uploadFilesStep(inputId, outputId);\n",
              "  const outputElement = document.getElementById(outputId);\n",
              "  // Cache steps on the outputElement to make it available for the next call\n",
              "  // to uploadFilesContinue from Python.\n",
              "  outputElement.steps = steps;\n",
              "\n",
              "  return _uploadFilesContinue(outputId);\n",
              "}\n",
              "\n",
              "// This is roughly an async generator (not supported in the browser yet),\n",
              "// where there are multiple asynchronous steps and the Python side is going\n",
              "// to poll for completion of each step.\n",
              "// This uses a Promise to block the python side on completion of each step,\n",
              "// then passes the result of the previous step as the input to the next step.\n",
              "function _uploadFilesContinue(outputId) {\n",
              "  const outputElement = document.getElementById(outputId);\n",
              "  const steps = outputElement.steps;\n",
              "\n",
              "  const next = steps.next(outputElement.lastPromiseValue);\n",
              "  return Promise.resolve(next.value.promise).then((value) => {\n",
              "    // Cache the last promise value to make it available to the next\n",
              "    // step of the generator.\n",
              "    outputElement.lastPromiseValue = value;\n",
              "    return next.value.response;\n",
              "  });\n",
              "}\n",
              "\n",
              "/**\n",
              " * Generator function which is called between each async step of the upload\n",
              " * process.\n",
              " * @param {string} inputId Element ID of the input file picker element.\n",
              " * @param {string} outputId Element ID of the output display.\n",
              " * @return {!Iterable<!Object>} Iterable of next steps.\n",
              " */\n",
              "function* uploadFilesStep(inputId, outputId) {\n",
              "  const inputElement = document.getElementById(inputId);\n",
              "  inputElement.disabled = false;\n",
              "\n",
              "  const outputElement = document.getElementById(outputId);\n",
              "  outputElement.innerHTML = '';\n",
              "\n",
              "  const pickedPromise = new Promise((resolve) => {\n",
              "    inputElement.addEventListener('change', (e) => {\n",
              "      resolve(e.target.files);\n",
              "    });\n",
              "  });\n",
              "\n",
              "  const cancel = document.createElement('button');\n",
              "  inputElement.parentElement.appendChild(cancel);\n",
              "  cancel.textContent = 'Cancel upload';\n",
              "  const cancelPromise = new Promise((resolve) => {\n",
              "    cancel.onclick = () => {\n",
              "      resolve(null);\n",
              "    };\n",
              "  });\n",
              "\n",
              "  // Wait for the user to pick the files.\n",
              "  const files = yield {\n",
              "    promise: Promise.race([pickedPromise, cancelPromise]),\n",
              "    response: {\n",
              "      action: 'starting',\n",
              "    }\n",
              "  };\n",
              "\n",
              "  cancel.remove();\n",
              "\n",
              "  // Disable the input element since further picks are not allowed.\n",
              "  inputElement.disabled = true;\n",
              "\n",
              "  if (!files) {\n",
              "    return {\n",
              "      response: {\n",
              "        action: 'complete',\n",
              "      }\n",
              "    };\n",
              "  }\n",
              "\n",
              "  for (const file of files) {\n",
              "    const li = document.createElement('li');\n",
              "    li.append(span(file.name, {fontWeight: 'bold'}));\n",
              "    li.append(span(\n",
              "        `(${file.type || 'n/a'}) - ${file.size} bytes, ` +\n",
              "        `last modified: ${\n",
              "            file.lastModifiedDate ? file.lastModifiedDate.toLocaleDateString() :\n",
              "                                    'n/a'} - `));\n",
              "    const percent = span('0% done');\n",
              "    li.appendChild(percent);\n",
              "\n",
              "    outputElement.appendChild(li);\n",
              "\n",
              "    const fileDataPromise = new Promise((resolve) => {\n",
              "      const reader = new FileReader();\n",
              "      reader.onload = (e) => {\n",
              "        resolve(e.target.result);\n",
              "      };\n",
              "      reader.readAsArrayBuffer(file);\n",
              "    });\n",
              "    // Wait for the data to be ready.\n",
              "    let fileData = yield {\n",
              "      promise: fileDataPromise,\n",
              "      response: {\n",
              "        action: 'continue',\n",
              "      }\n",
              "    };\n",
              "\n",
              "    // Use a chunked sending to avoid message size limits. See b/62115660.\n",
              "    let position = 0;\n",
              "    do {\n",
              "      const length = Math.min(fileData.byteLength - position, MAX_PAYLOAD_SIZE);\n",
              "      const chunk = new Uint8Array(fileData, position, length);\n",
              "      position += length;\n",
              "\n",
              "      const base64 = btoa(String.fromCharCode.apply(null, chunk));\n",
              "      yield {\n",
              "        response: {\n",
              "          action: 'append',\n",
              "          file: file.name,\n",
              "          data: base64,\n",
              "        },\n",
              "      };\n",
              "\n",
              "      let percentDone = fileData.byteLength === 0 ?\n",
              "          100 :\n",
              "          Math.round((position / fileData.byteLength) * 100);\n",
              "      percent.textContent = `${percentDone}% done`;\n",
              "\n",
              "    } while (position < fileData.byteLength);\n",
              "  }\n",
              "\n",
              "  // All done.\n",
              "  yield {\n",
              "    response: {\n",
              "      action: 'complete',\n",
              "    }\n",
              "  };\n",
              "}\n",
              "\n",
              "scope.google = scope.google || {};\n",
              "scope.google.colab = scope.google.colab || {};\n",
              "scope.google.colab._files = {\n",
              "  _uploadFiles,\n",
              "  _uploadFilesContinue,\n",
              "};\n",
              "})(self);\n",
              "</script> "
            ],
            "text/plain": [
              "<IPython.core.display.HTML object>"
            ]
          },
          "metadata": {},
          "output_type": "display_data"
        }
      ],
      "source": [
        "files.upload()"
      ]
    },
    {
      "cell_type": "code",
      "execution_count": null,
      "metadata": {
        "colab": {
          "background_save": true
        },
        "id": "dlLL6mNh2qZy"
      },
      "outputs": [],
      "source": [
        "df = pd.read_csv('concat.csv')"
      ]
    },
    {
      "cell_type": "code",
      "execution_count": null,
      "metadata": {
        "id": "FOhxMIsA2s1n"
      },
      "outputs": [],
      "source": [
        "normalizer = Normalizer()\n",
        "df['combined_text'] = df['combined_text'].apply(normalizer.normalize)"
      ]
    },
    {
      "cell_type": "code",
      "execution_count": null,
      "metadata": {
        "id": "qQvVe-Hl2yPe"
      },
      "outputs": [],
      "source": [
        "vectorizer = TfidfVectorizer()\n",
        "X = vectorizer.fit_transform(df['combined_text'])"
      ]
    },
    {
      "cell_type": "code",
      "execution_count": null,
      "metadata": {
        "id": "ArQ_JWhp24-8"
      },
      "outputs": [],
      "source": [
        "model_name_qa = \"SajjadAyoubi/xlm-roberta-large-fa-qa\"\n",
        "tokenizer_qa = AutoTokenizer.from_pretrained(model_name_qa)\n",
        "model_qa = AutoModelForQuestionAnswering.from_pretrained(model_name_qa)"
      ]
    },
    {
      "cell_type": "code",
      "execution_count": null,
      "metadata": {
        "id": "04o1sXim294T"
      },
      "outputs": [],
      "source": [
        "model_name_sim = \"HooshvareLab/bert-fa-base-uncased\"\n",
        "tokenizer_sim = AutoTokenizer.from_pretrained(model_name_sim)\n",
        "model_sim = AutoModel.from_pretrained(model_name_sim)"
      ]
    },
    {
      "cell_type": "code",
      "execution_count": null,
      "metadata": {
        "id": "LpBR8V5j23fK"
      },
      "outputs": [],
      "source": [
        "def find_most_similar_docs(question, keywords, top_n=5):\n",
        "    question_with_keywords = f\"{question} {' '.join(keywords)}\"\n",
        "    question_vec = vectorizer.transform([normalizer.normalize(question_with_keywords)])\n",
        "    similarities = cosine_similarity(question_vec, X).flatten()\n",
        "    top_docs_indices = similarities.argsort()[-top_n:][::-1]\n",
        "    return df.iloc[top_docs_indices]\n"
      ]
    },
    {
      "cell_type": "code",
      "execution_count": null,
      "metadata": {
        "id": "8wrxlSH62_cq"
      },
      "outputs": [],
      "source": [
        "def get_answer(question, context, max_length=512):\n",
        "    inputs = tokenizer_qa.encode_plus(\n",
        "        question,\n",
        "        context,\n",
        "        add_special_tokens=True,\n",
        "        return_tensors=\"pt\",\n",
        "        max_length=max_length,\n",
        "        truncation=True\n",
        "    )\n",
        "    outputs = model_qa(**inputs)\n",
        "    answer_start = torch.argmax(outputs.start_logits)\n",
        "    answer_end = torch.argmax(outputs.end_logits) + 1\n",
        "\n",
        "    answer = tokenizer_qa.convert_tokens_to_string(tokenizer_qa.convert_ids_to_tokens(inputs.input_ids[0][answer_start:answer_end]))\n",
        "    return answer.strip()"
      ]
    },
    {
      "cell_type": "code",
      "execution_count": null,
      "metadata": {
        "id": "5lPKgzuh3BHh"
      },
      "outputs": [],
      "source": [
        "def semantic_similarity(sentence1, sentence2):\n",
        "    inputs = tokenizer_sim(sentence1, sentence2, return_tensors='pt', truncation=True, padding=True, max_length=512)\n",
        "    with torch.no_grad():\n",
        "        outputs = model_sim(**inputs)\n",
        "\n",
        "    embeddings1 = outputs.last_hidden_state.mean(dim=1).squeeze().numpy()\n",
        "    embeddings2 = outputs.last_hidden_state.mean(dim=1).squeeze().numpy()\n",
        "\n",
        "    similarity = np.dot(embeddings1, embeddings2) / (np.linalg.norm(embeddings1) * np.linalg.norm(embeddings2))\n",
        "    return similarity"
      ]
    },
    {
      "cell_type": "code",
      "execution_count": null,
      "metadata": {
        "id": "YTMDsl2iwAP2"
      },
      "outputs": [],
      "source": [
        "@app.route('/get_best_answer', methods=['POST'])\n",
        "def get_best_answer():\n",
        "    data = request.get_json()\n",
        "    question = data.get('question')\n",
        "    keywords = data.get('keywords', [])\n",
        "    print(keywords)\n",
        "\n",
        "    similar_docs = find_most_similar_docs(question, keywords, top_n=5)\n",
        "    print(similar_docs)\n",
        "    filtered_docs_df = pd.DataFrame(similar_docs)\n",
        "\n",
        "    if not filtered_docs_df.empty:\n",
        "        docs_to_evaluate = filtered_docs_df\n",
        "    else:\n",
        "        docs_to_evaluate = similar_docs\n",
        "\n",
        "    best_answer = \"\"\n",
        "    best_score = 0.0\n",
        "    min_score_threshold = 0.00005\n",
        "    min_answer_length = 1\n",
        "\n",
        "    for idx, row in docs_to_evaluate.iterrows():\n",
        "        context = row['combined_text']\n",
        "        answer = get_answer(question, context)\n",
        "\n",
        "        if len(answer.strip()) < min_answer_length or answer in ['<s>', '']:\n",
        "            continue\n",
        "\n",
        "        sim_score = semantic_similarity(question, answer)\n",
        "        sim_score = float(sim_score)\n",
        "\n",
        "        if sim_score > best_score and sim_score >= min_score_threshold:\n",
        "            best_answer = answer\n",
        "            best_score = sim_score\n",
        "\n",
        "    print(best_answer)\n",
        "\n",
        "    if best_answer:\n",
        "        return jsonify({'best_answer': best_answer, 'score': best_score})\n",
        "    else:\n",
        "        return jsonify({'best_answer': \"پاسخ مناسبی یافت نشد.\"})\n"
      ]
    },
    {
      "cell_type": "code",
      "execution_count": null,
      "metadata": {
        "colab": {
          "background_save": true,
          "base_uri": "https://localhost:8080/"
        },
        "id": "nrMDV4J2wEPE",
        "outputId": "1395b0ca-4b72-4a1a-9d73-5746415236da"
      },
      "outputs": [
        {
          "name": "stdout",
          "output_type": "stream",
          "text": [
            " * Serving Flask app '__main__'\n",
            " * Debug mode: off\n"
          ]
        },
        {
          "name": "stderr",
          "output_type": "stream",
          "text": [
            "INFO:werkzeug:\u001b[31m\u001b[1mWARNING: This is a development server. Do not use it in a production deployment. Use a production WSGI server instead.\u001b[0m\n",
            " * Running on http://127.0.0.1:5000\n",
            "INFO:werkzeug:\u001b[33mPress CTRL+C to quit\u001b[0m\n"
          ]
        },
        {
          "name": "stdout",
          "output_type": "stream",
          "text": [
            " * Running on http://6adb-34-125-245-118.ngrok-free.app\n",
            " * Traffic stats available on http://127.0.0.1:4040\n",
            "[]\n",
            "     Unnamed: 0                                              title  \\\n",
            "0             0                ‫فلیک به قهرمان بارسلونا پاداش داد‬   \n",
            "175         175         ‫با دبل ستاره بارسا: اسپانیا نزدیک به طلا‬   \n",
            "519         519     ‫لوپز با خاکستر کوبایی میرزازاد را برد! (عکس)‬   \n",
            "517         517  ‫این غول شکست ناپذیر: میرزازاده به امید شانس م...   \n",
            "110         110             ‫پاداش فوری بارسلونا به ستاره المپیکی‬   \n",
            "\n",
            "                                               content  \\\n",
            "0    ‫فرمین لوپز با پایان فصل گذشته که از نظر فردی ...   \n",
            "175  ‫اسپانیا که در دقایق اولیه دیدارش مقابل ‌‏فران...   \n",
            "519  ‫میخایین لوپز کشتی‌گیر افسانه‌ای کوبا تا دقایق...   \n",
            "517  ‫در فینال زودرس سنگین وزن کشتی فرنگی، میخایین ...   \n",
            "110  ‫فرمین لوپز با درخشش در بازی‌های المپیک نشان د...   \n",
            "\n",
            "                                                  lead  \\\n",
            "0    ‫مربی بارسا به فرمین لوپز یک هفته استراحت داده...   \n",
            "175  ‫فرمین لوپز، ستاره بارسلونا، در فینال المپیک ب...   \n",
            "519  ‫خانواده لوپز، رقیب امین میرزازاد رسومات محلی ...   \n",
            "517  ‫امین میرزازاده با شکست برابر میخایین لوپز در ...   \n",
            "110  ‫بارسلونا در روزهای آینده با فرمین وارد مذاکره...   \n",
            "\n",
            "                                         combined_text  \n",
            "0    ‫فلیک به قهرمان بارسلونا پاداش داد‬ ‫مربی بارس...  \n",
            "175  ‫با دبل ستاره بارسا: اسپانیا نزدیک به طلا‬ ‫فر...  \n",
            "519  ‫لوپز با خاکستر کوبایی میرزازاد را برد! (عکس) ...  \n",
            "517  ‫این غول شکست‌ناپذیر: میرزازاده به امید شانس م...  \n",
            "110  ‫پاداش فوری بارسلونا به ستاره المپیکی‬ ‫بارسلو...  \n"
          ]
        },
        {
          "name": "stderr",
          "output_type": "stream",
          "text": [
            "INFO:werkzeug:127.0.0.1 - - [27/Aug/2024 19:27:52] \"POST /get_best_answer HTTP/1.1\" 200 -\n"
          ]
        },
        {
          "name": "stdout",
          "output_type": "stream",
          "text": [
            "بارسلونا\n",
            "[]\n",
            "     Unnamed: 0                                              title  \\\n",
            "0             0                ‫فلیک به قهرمان بارسلونا پاداش داد‬   \n",
            "175         175         ‫با دبل ستاره بارسا: اسپانیا نزدیک به طلا‬   \n",
            "110         110             ‫پاداش فوری بارسلونا به ستاره المپیکی‬   \n",
            "455         455       ‫اصلا فکرش را نمی‌کردم به رکورد نیمار برسم!‬   \n",
            "499         499  ‫مراکش 1-2 اسپانیا: لاروخا انتقام جام جهانی را...   \n",
            "\n",
            "                                               content  \\\n",
            "0    ‫فرمین لوپز با پایان فصل گذشته که از نظر فردی ...   \n",
            "175  ‫اسپانیا که در دقایق اولیه دیدارش مقابل ‌‏فران...   \n",
            "110  ‫فرمین لوپز با درخشش در بازی‌های المپیک نشان د...   \n",
            "455  ‫تیم فوتبال المپیک اسپانیا که ابتدا با یک گل ا...   \n",
            "499  ‫اسپانیا امروز در نیمه‌نهایی فوتبال المپیک ‏دس...   \n",
            "\n",
            "                                                  lead  \\\n",
            "0    ‫مربی بارسا به فرمین لوپز یک هفته استراحت داده...   \n",
            "175  ‫فرمین لوپز، ستاره بارسلونا، در فینال المپیک ب...   \n",
            "110  ‫بارسلونا در روزهای آینده با فرمین وارد مذاکره...   \n",
            "455  ‫فرمین لوپز، ستاره بارسا، یکی از بهترین‌های اس...   \n",
            "499  ‫تیم ملی المپیک اسپانیا موفق شد در نیمه‌نهایی ...   \n",
            "\n",
            "                                         combined_text  \n",
            "0    ‫فلیک به قهرمان بارسلونا پاداش داد‬ ‫مربی بارس...  \n",
            "175  ‫با دبل ستاره بارسا: اسپانیا نزدیک به طلا‬ ‫فر...  \n",
            "110  ‫پاداش فوری بارسلونا به ستاره المپیکی‬ ‫بارسلو...  \n",
            "455  ‫اصلا فکرش را نمی‌کردم به رکورد نیمار برسم! ‬ ...  \n",
            "499  ‫مراکش ۱ - ۲ اسپانیا: لاروخا انتقام جام جهانی ...  \n"
          ]
        },
        {
          "name": "stderr",
          "output_type": "stream",
          "text": [
            "INFO:werkzeug:127.0.0.1 - - [27/Aug/2024 19:29:22] \"POST /get_best_answer HTTP/1.1\" 200 -\n"
          ]
        },
        {
          "name": "stdout",
          "output_type": "stream",
          "text": [
            "اسپانیا\n",
            "[]\n",
            "     Unnamed: 0                                              title  \\\n",
            "0             0                ‫فلیک به قهرمان بارسلونا پاداش داد‬   \n",
            "175         175         ‫با دبل ستاره بارسا: اسپانیا نزدیک به طلا‬   \n",
            "519         519     ‫لوپز با خاکستر کوبایی میرزازاد را برد! (عکس)‬   \n",
            "517         517  ‫این غول شکست ناپذیر: میرزازاده به امید شانس م...   \n",
            "110         110             ‫پاداش فوری بارسلونا به ستاره المپیکی‬   \n",
            "\n",
            "                                               content  \\\n",
            "0    ‫فرمین لوپز با پایان فصل گذشته که از نظر فردی ...   \n",
            "175  ‫اسپانیا که در دقایق اولیه دیدارش مقابل ‌‏فران...   \n",
            "519  ‫میخایین لوپز کشتی‌گیر افسانه‌ای کوبا تا دقایق...   \n",
            "517  ‫در فینال زودرس سنگین وزن کشتی فرنگی، میخایین ...   \n",
            "110  ‫فرمین لوپز با درخشش در بازی‌های المپیک نشان د...   \n",
            "\n",
            "                                                  lead  \\\n",
            "0    ‫مربی بارسا به فرمین لوپز یک هفته استراحت داده...   \n",
            "175  ‫فرمین لوپز، ستاره بارسلونا، در فینال المپیک ب...   \n",
            "519  ‫خانواده لوپز، رقیب امین میرزازاد رسومات محلی ...   \n",
            "517  ‫امین میرزازاده با شکست برابر میخایین لوپز در ...   \n",
            "110  ‫بارسلونا در روزهای آینده با فرمین وارد مذاکره...   \n",
            "\n",
            "                                         combined_text  \n",
            "0    ‫فلیک به قهرمان بارسلونا پاداش داد‬ ‫مربی بارس...  \n",
            "175  ‫با دبل ستاره بارسا: اسپانیا نزدیک به طلا‬ ‫فر...  \n",
            "519  ‫لوپز با خاکستر کوبایی میرزازاد را برد! (عکس) ...  \n",
            "517  ‫این غول شکست‌ناپذیر: میرزازاده به امید شانس م...  \n",
            "110  ‫پاداش فوری بارسلونا به ستاره المپیکی‬ ‫بارسلو...  \n"
          ]
        },
        {
          "name": "stderr",
          "output_type": "stream",
          "text": [
            "INFO:werkzeug:127.0.0.1 - - [27/Aug/2024 19:39:03] \"POST /get_best_answer HTTP/1.1\" 200 -\n"
          ]
        },
        {
          "name": "stdout",
          "output_type": "stream",
          "text": [
            "اسپانیا\n",
            "[]\n",
            "     Unnamed: 0                                              title  \\\n",
            "0             0                ‫فلیک به قهرمان بارسلونا پاداش داد‬   \n",
            "175         175         ‫با دبل ستاره بارسا: اسپانیا نزدیک به طلا‬   \n",
            "519         519     ‫لوپز با خاکستر کوبایی میرزازاد را برد! (عکس)‬   \n",
            "517         517  ‫این غول شکست ناپذیر: میرزازاده به امید شانس م...   \n",
            "110         110             ‫پاداش فوری بارسلونا به ستاره المپیکی‬   \n",
            "\n",
            "                                               content  \\\n",
            "0    ‫فرمین لوپز با پایان فصل گذشته که از نظر فردی ...   \n",
            "175  ‫اسپانیا که در دقایق اولیه دیدارش مقابل ‌‏فران...   \n",
            "519  ‫میخایین لوپز کشتی‌گیر افسانه‌ای کوبا تا دقایق...   \n",
            "517  ‫در فینال زودرس سنگین وزن کشتی فرنگی، میخایین ...   \n",
            "110  ‫فرمین لوپز با درخشش در بازی‌های المپیک نشان د...   \n",
            "\n",
            "                                                  lead  \\\n",
            "0    ‫مربی بارسا به فرمین لوپز یک هفته استراحت داده...   \n",
            "175  ‫فرمین لوپز، ستاره بارسلونا، در فینال المپیک ب...   \n",
            "519  ‫خانواده لوپز، رقیب امین میرزازاد رسومات محلی ...   \n",
            "517  ‫امین میرزازاده با شکست برابر میخایین لوپز در ...   \n",
            "110  ‫بارسلونا در روزهای آینده با فرمین وارد مذاکره...   \n",
            "\n",
            "                                         combined_text  \n",
            "0    ‫فلیک به قهرمان بارسلونا پاداش داد‬ ‫مربی بارس...  \n",
            "175  ‫با دبل ستاره بارسا: اسپانیا نزدیک به طلا‬ ‫فر...  \n",
            "519  ‫لوپز با خاکستر کوبایی میرزازاد را برد! (عکس) ...  \n",
            "517  ‫این غول شکست‌ناپذیر: میرزازاده به امید شانس م...  \n",
            "110  ‫پاداش فوری بارسلونا به ستاره المپیکی‬ ‫بارسلو...  \n"
          ]
        },
        {
          "name": "stderr",
          "output_type": "stream",
          "text": [
            "INFO:werkzeug:127.0.0.1 - - [27/Aug/2024 19:53:43] \"POST /get_best_answer HTTP/1.1\" 200 -\n"
          ]
        },
        {
          "name": "stdout",
          "output_type": "stream",
          "text": [
            "اسپانیا\n",
            "[]\n",
            "     Unnamed: 0                                              title  \\\n",
            "0             0                ‫فلیک به قهرمان بارسلونا پاداش داد‬   \n",
            "175         175         ‫با دبل ستاره بارسا: اسپانیا نزدیک به طلا‬   \n",
            "519         519     ‫لوپز با خاکستر کوبایی میرزازاد را برد! (عکس)‬   \n",
            "517         517  ‫این غول شکست ناپذیر: میرزازاده به امید شانس م...   \n",
            "110         110             ‫پاداش فوری بارسلونا به ستاره المپیکی‬   \n",
            "\n",
            "                                               content  \\\n",
            "0    ‫فرمین لوپز با پایان فصل گذشته که از نظر فردی ...   \n",
            "175  ‫اسپانیا که در دقایق اولیه دیدارش مقابل ‌‏فران...   \n",
            "519  ‫میخایین لوپز کشتی‌گیر افسانه‌ای کوبا تا دقایق...   \n",
            "517  ‫در فینال زودرس سنگین وزن کشتی فرنگی، میخایین ...   \n",
            "110  ‫فرمین لوپز با درخشش در بازی‌های المپیک نشان د...   \n",
            "\n",
            "                                                  lead  \\\n",
            "0    ‫مربی بارسا به فرمین لوپز یک هفته استراحت داده...   \n",
            "175  ‫فرمین لوپز، ستاره بارسلونا، در فینال المپیک ب...   \n",
            "519  ‫خانواده لوپز، رقیب امین میرزازاد رسومات محلی ...   \n",
            "517  ‫امین میرزازاده با شکست برابر میخایین لوپز در ...   \n",
            "110  ‫بارسلونا در روزهای آینده با فرمین وارد مذاکره...   \n",
            "\n",
            "                                         combined_text  \n",
            "0    ‫فلیک به قهرمان بارسلونا پاداش داد‬ ‫مربی بارس...  \n",
            "175  ‫با دبل ستاره بارسا: اسپانیا نزدیک به طلا‬ ‫فر...  \n",
            "519  ‫لوپز با خاکستر کوبایی میرزازاد را برد! (عکس) ...  \n",
            "517  ‫این غول شکست‌ناپذیر: میرزازاده به امید شانس م...  \n",
            "110  ‫پاداش فوری بارسلونا به ستاره المپیکی‬ ‫بارسلو...  \n"
          ]
        },
        {
          "name": "stderr",
          "output_type": "stream",
          "text": [
            "INFO:werkzeug:127.0.0.1 - - [27/Aug/2024 19:54:45] \"POST /get_best_answer HTTP/1.1\" 200 -\n"
          ]
        },
        {
          "name": "stdout",
          "output_type": "stream",
          "text": [
            "بارسلونا\n"
          ]
        }
      ],
      "source": [
        "if __name__ == '__main__':\n",
        "    app.run()"
      ]
    },
    {
      "cell_type": "code",
      "execution_count": null,
      "metadata": {
        "colab": {
          "base_uri": "https://localhost:8080/"
        },
        "id": "xELICiBRnsPd",
        "outputId": "59700d87-6286-4225-8b1c-a572e944aaf2"
      },
      "outputs": [
        {
          "name": "stdout",
          "output_type": "stream",
          "text": []
        }
      ],
      "source": [
        "from pyngrok import ngrok\n",
        "\n",
        "# توکن احراز هویت Ngrok خود را تنظیم کنید\n",
        "ngrok.set_auth_token(\"2kz79ToNRlapXweT40HkWEsKFIr_36TTJ763V4UuxrMyQD8y1\")\n"
      ]
    },
    {
      "cell_type": "code",
      "execution_count": null,
      "metadata": {
        "colab": {
          "base_uri": "https://localhost:8080/"
        },
        "id": "XVj9ubKSoMSW",
        "outputId": "309b1c81-1cf1-4c42-ce84-0e1107aae873"
      },
      "outputs": [
        {
          "name": "stdout",
          "output_type": "stream",
          "text": [
            "Ngrok tunnel \"public_url\" to port 5000:\n",
            "NgrokTunnel: \"https://6f60-35-240-149-177.ngrok-free.app\" -> \"http://localhost:5000\"\n"
          ]
        }
      ],
      "source": [
        "public_url = ngrok.connect(5000)\n",
        "print('Ngrok tunnel \"public_url\" to port 5000:')\n",
        "print(public_url)"
      ]
    },
    {
      "cell_type": "code",
      "execution_count": null,
      "metadata": {
        "colab": {
          "base_uri": "https://localhost:8080/"
        },
        "id": "SNWmFexxtXl1",
        "outputId": "c4aa6753-cd86-473e-9df3-9c956b7b6b38"
      },
      "outputs": [
        {
          "name": "stdout",
          "output_type": "stream",
          "text": [
            "Valid configuration file at /root/.config/ngrok/ngrok.yml\n"
          ]
        }
      ],
      "source": [
        "!ngrok config check"
      ]
    },
    {
      "cell_type": "code",
      "execution_count": null,
      "metadata": {
        "id": "srIrQJpdtias"
      },
      "outputs": [],
      "source": []
    }
  ],
  "metadata": {
    "accelerator": "GPU",
    "colab": {
      "gpuType": "T4",
      "provenance": []
    },
    "kernelspec": {
      "display_name": "Python 3",
      "name": "python3"
    },
    "language_info": {
      "name": "python"
    }
  },
  "nbformat": 4,
  "nbformat_minor": 0
}